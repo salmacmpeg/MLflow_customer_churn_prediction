{
 "cells": [
  {
   "cell_type": "code",
   "execution_count": null,
   "id": "119ddc94",
   "metadata": {},
   "outputs": [
    {
     "data": {
      "text/plain": [
       "'Try using MLflow Tracking to log metrics and parameters from a machine learning experiment.\\n\\nPackage up a simple machine learning model as an MLflow Project. \\n\\nUse the MLflow UI to compare multiple runs of an experiment\\n\\nTry deploying a machine learning model using the MLflow Model Registry and MLflow Deployments for LLMs. Observe how model governance and access control can be implemented.\\n\\nExplore using MLflow with a specific machine learning library like PyTorch or TensorFlow. See how logging model artifacts as MLflow models allows framework-agnostic deployment.  \\n\\n'"
      ]
     },
     "execution_count": 1,
     "metadata": {},
     "output_type": "execute_result"
    }
   ],
   "source": [
    "\"\"\"\n",
    "This project demonstrates how to use MLflow to practice tracking and versioning of datasets, metrics, models, parameters\n",
    "while developing a machine learning experiment.\n",
    "\n",
    "This project is a customer churn prediction using classical machine learning models .\n",
    "\n",
    "The data is a cleaned, preprocessed version of the Iranian Customer Churn Prediction dataset.\n",
    "\n",
    "The data is already split into train, test and valid datasets.\n",
    "\n",
    "The experimented models are: Random Forest, Support Vector Machine and XGBoost.\n",
    "\n",
    "The experimented models parameters are: Random Forest(n_estimators), and Support Vector Machine(kernel).\n",
    "\n",
    "The logged metrics are : Balanced Accuracy, Geometric Mean, Matthews Correlation Coefficient, Precision, Recall, F1 Score, and Confusion Metrix.\n",
    "\n",
    "The run id is updated dynamically using a date and time stamp.\n",
    "\n",
    "Model artifacts are logged as MLflow models.\n",
    "\n",
    "Modular programming is used for the project to make it easier to maintain and debug.\n",
    "\n",
    "Feel free to use this project as a template for your own machine learning experiments, and tune the parameters to your needs.\n",
    "\n",
    "\"\"\""
   ]
  },
  {
   "cell_type": "code",
   "execution_count": null,
   "id": "4bdadd13",
   "metadata": {},
   "outputs": [],
   "source": [
    "import pandas as pd\n",
    "from sklearn.metrics import balanced_accuracy_score\n",
    "from sklearn import metrics\n",
    "from imblearn.metrics import geometric_mean_score\n",
    "from sklearn.metrics import matthews_corrcoef\n",
    "\n",
    "import datetime\n",
    "\n",
    "from sklearn.ensemble import RandomForestClassifier\n",
    "from sklearn import svm\n",
    "import xgboost as xgb\n",
    "\n",
    "import mlflow\n",
    "from mlflow.models import infer_signature\n",
    "from mlflow import log_metric"
   ]
  },
  {
   "cell_type": "code",
   "execution_count": 3,
   "id": "38d91760",
   "metadata": {},
   "outputs": [
    {
     "name": "stderr",
     "output_type": "stream",
     "text": [
      "2025/07/30 22:14:00 INFO mlflow.tracking.fluent: Experiment with name 'customer_churn_prediction' does not exist. Creating a new experiment.\n"
     ]
    },
    {
     "data": {
      "text/plain": [
       "<Experiment: artifact_location='file:///c:/Users/PC/Desktop/current_focus/mlflow/mlflow_app/mlruns/430583840645811508', creation_time=1753902840892, experiment_id='430583840645811508', last_update_time=1753902840892, lifecycle_stage='active', name='customer_churn_prediction', tags={}>"
      ]
     },
     "execution_count": 3,
     "metadata": {},
     "output_type": "execute_result"
    }
   ],
   "source": [
    "#initilaization\n",
    "# mlflow.set_tracking_uri(\"http://localhost:5000\")\n",
    "mlflow.set_experiment('customer_churn_prediction')"
   ]
  },
  {
   "cell_type": "code",
   "execution_count": 4,
   "id": "5b29f6fb",
   "metadata": {},
   "outputs": [],
   "source": [
    "#load the customer churn data\n",
    "def load_data():\n",
    "    \n",
    "    df_train = pd.read_csv('telecome_customer_churn/train.csv')\n",
    "    df_test = pd.read_csv('telecome_customer_churn/test.csv')\n",
    "    df_valid = pd.read_csv('telecome_customer_churn/valid.csv')\n",
    "    \n",
    "    return df_train, df_test, df_valid"
   ]
  },
  {
   "cell_type": "code",
   "execution_count": 5,
   "id": "29d92e4e",
   "metadata": {},
   "outputs": [],
   "source": [
    "def split_data(df, label=' Class'):\n",
    "    \n",
    "    X = df.drop([label], axis=1)\n",
    "    y = df[label].astype('int')\n",
    "    \n",
    "    return X, y"
   ]
  },
  {
   "cell_type": "code",
   "execution_count": 6,
   "id": "4eb79d96",
   "metadata": {},
   "outputs": [],
   "source": [
    "def report_results(model, X_test, y_test, name, verbose=False):\n",
    "\n",
    "    pred_y_test=model.predict(X_test)\n",
    "\n",
    "    bacc=round(balanced_accuracy_score(y_test,pred_y_test)*100,2)\n",
    "    f1=round(metrics.f1_score(y_test,pred_y_test)*100,2)\n",
    "    gm=round(geometric_mean_score(y_test,pred_y_test, average='weighted')*100,2)\n",
    "    mcc=round(matthews_corrcoef(y_test,pred_y_test)*100,2)\n",
    "    CM=metrics.confusion_matrix(y_test, pred_y_test)\n",
    "    TN = CM[0][0]\n",
    "    FN = CM[1][0] \n",
    "    TP = CM[1][1] \n",
    "    FP = CM[0][1]\n",
    "\n",
    "    if verbose:\n",
    "        print(name+'_Confusion Matrix', CM)\n",
    "        print(name+'_Bacc',bacc)\n",
    "        print(name+'_F1',f1)\n",
    "        print(name+'_GM',gm)\n",
    "        print(name+'_MCC',mcc)\n",
    "\n",
    "    log_metric(name+'_TN', TN)\n",
    "    log_metric(name+'_FN', FN)\n",
    "    log_metric(name+'_TP', TP)\n",
    "    log_metric(name+'_FP', FP)  \n",
    "    log_metric(name+'_Recall', TP/(TP+FN))\n",
    "    log_metric(name+'_Precision', TP/(TP+FP))\n",
    "    log_metric(name+'_Bacc',bacc)\n",
    "    log_metric(name+'_F1',f1)\n",
    "    log_metric(name+'_GM',gm)\n",
    "    log_metric(name+'_MCC',mcc)"
   ]
  },
  {
   "cell_type": "code",
   "execution_count": 7,
   "id": "849f8437",
   "metadata": {},
   "outputs": [],
   "source": [
    "def make_classifier_RF(Xtrain,Ytrain,n_estimators):\n",
    "    RF = RandomForestClassifier(n_estimators) \n",
    "    RF.fit(Xtrain,Ytrain)\n",
    "    return RF"
   ]
  },
  {
   "cell_type": "code",
   "execution_count": 8,
   "id": "955b385d",
   "metadata": {},
   "outputs": [],
   "source": [
    "def make_classifier_SVM(Xtrain,Ytrain, kernel='rbf'):\n",
    "    svmc = svm.SVC(kernel=kernel, probability=True)\n",
    "    svmc.fit(Xtrain,Ytrain)\n",
    "    return svmc"
   ]
  },
  {
   "cell_type": "code",
   "execution_count": 9,
   "id": "a83bd0f2",
   "metadata": {},
   "outputs": [],
   "source": [
    "def make_classifier_xgboost(Xtrain,Ytrain):\n",
    "    xgbc = xgb.XGBClassifier()\n",
    "    xgbc.fit(Xtrain,Ytrain)\n",
    "    return xgbc"
   ]
  },
  {
   "cell_type": "code",
   "execution_count": 10,
   "id": "8bca842f",
   "metadata": {},
   "outputs": [],
   "source": [
    "def get_data():\n",
    "    df_train, df_test, df_valid = load_data()\n",
    "    X_train, y_train = split_data(df_train)\n",
    "    X_valid, y_valid = split_data(df_valid)\n",
    "    data = {'X_train':X_train,'y_train':y_train,'X_valid':X_valid,'y_valid':y_valid}\n",
    "    return data,df_train, df_test, df_valid\n",
    "data,df_train, df_test, df_valid = get_data()"
   ]
  },
  {
   "cell_type": "code",
   "execution_count": 11,
   "id": "59fa53a0",
   "metadata": {},
   "outputs": [
    {
     "name": "stderr",
     "output_type": "stream",
     "text": [
      "c:\\Users\\PC\\Desktop\\current_focus\\mlflow\\mlflow_app\\venv\\Lib\\site-packages\\mlflow\\data\\dataset_source_registry.py:149: UserWarning: Failed to determine whether UCVolumeDatasetSource can resolve source information for 'telecome_customer_churn/train.csv'. Exception: \n",
      "  return _dataset_source_registry.resolve(\n",
      "c:\\Users\\PC\\Desktop\\current_focus\\mlflow\\mlflow_app\\venv\\Lib\\site-packages\\mlflow\\data\\dataset_source_registry.py:149: UserWarning: The specified dataset source can be interpreted in multiple ways: LocalArtifactDatasetSource, LocalArtifactDatasetSource. MLflow will assume that this is a LocalArtifactDatasetSource source.\n",
      "  return _dataset_source_registry.resolve(\n",
      "c:\\Users\\PC\\Desktop\\current_focus\\mlflow\\mlflow_app\\venv\\Lib\\site-packages\\mlflow\\data\\dataset_source_registry.py:149: UserWarning: Failed to determine whether UCVolumeDatasetSource can resolve source information for 'telecome_customer_churn/test.csv'. Exception: \n",
      "  return _dataset_source_registry.resolve(\n",
      "c:\\Users\\PC\\Desktop\\current_focus\\mlflow\\mlflow_app\\venv\\Lib\\site-packages\\mlflow\\data\\dataset_source_registry.py:149: UserWarning: The specified dataset source can be interpreted in multiple ways: LocalArtifactDatasetSource, LocalArtifactDatasetSource. MLflow will assume that this is a LocalArtifactDatasetSource source.\n",
      "  return _dataset_source_registry.resolve(\n",
      "c:\\Users\\PC\\Desktop\\current_focus\\mlflow\\mlflow_app\\venv\\Lib\\site-packages\\mlflow\\data\\dataset_source_registry.py:149: UserWarning: Failed to determine whether UCVolumeDatasetSource can resolve source information for 'telecome_customer_churn/valid.csv'. Exception: \n",
      "  return _dataset_source_registry.resolve(\n",
      "c:\\Users\\PC\\Desktop\\current_focus\\mlflow\\mlflow_app\\venv\\Lib\\site-packages\\mlflow\\data\\dataset_source_registry.py:149: UserWarning: The specified dataset source can be interpreted in multiple ways: LocalArtifactDatasetSource, LocalArtifactDatasetSource. MLflow will assume that this is a LocalArtifactDatasetSource source.\n",
      "  return _dataset_source_registry.resolve(\n"
     ]
    }
   ],
   "source": [
    "def make_a_dataset(objective:str,df_in):\n",
    "\n",
    "    id:str = datetime.datetime.now().strftime(\"%d/%b/%Y:%H_%M_%S\")\n",
    "\n",
    "    with mlflow.start_run():\n",
    "\n",
    "        mlflow.set_tag(\"mlflow.runName\", 'CCP_dataset/'+objective+'/'+str(id))\n",
    "\n",
    "        if objective not in ['test','valid','train']:\n",
    "            raise ValueError('objective must be train, test or valid')\n",
    "        \n",
    "        train_dataset = mlflow.data.from_pandas(\n",
    "            df=df_in,\n",
    "            source='telecome_customer_churn/'+objective+'.csv', # Example source\n",
    "            name=\"Iranian Customer Churn Dataset\",\n",
    "            targets=\" Class\"\n",
    "        )\n",
    "        mlflow.log_input(dataset=train_dataset, context=objective)\n",
    "\n",
    "    mlflow.end_run()\n",
    "\n",
    "    return \n",
    "make_a_dataset('train',df_train)\n",
    "make_a_dataset('test',df_test)\n",
    "make_a_dataset('valid',df_valid)\n"
   ]
  },
  {
   "cell_type": "code",
   "execution_count": null,
   "id": "63d6031a",
   "metadata": {},
   "outputs": [],
   "source": [
    "def make_a_run(run_name:str, model_name:str,\n",
    "               model_params:dict, model_func:object,\n",
    "               data:dict, infered_signature:object):\n",
    "    \n",
    "    id:str = datetime.datetime.now().strftime(\"%d_%b_%Y_%H_%M_%S\")\n",
    "\n",
    "    with mlflow.start_run():\n",
    "\n",
    "        mlflow.set_tag(\"mlflow.runName\", run_name+'_'+id)\n",
    "\n",
    "        model = model_func(data['X_train'],data['y_train'],**model_params)\n",
    "\n",
    "        report_results(model, data['X_train'],data['y_train'], 'train')\n",
    "        report_results(model, data['X_valid'],data['y_valid'], 'valid')\n",
    "\n",
    "        mlflow.sklearn.log_model(\n",
    "            sk_model=model,\n",
    "            name=model_name+'_'+str(id),\n",
    "            signature=infered_signature,\n",
    "            input_example=data['X_train'][:1],\n",
    "            params=model_params\n",
    "            )\n",
    "        \n",
    "        mlflow.end_run()"
   ]
  },
  {
   "cell_type": "code",
   "execution_count": 13,
   "id": "24e4a273",
   "metadata": {},
   "outputs": [
    {
     "name": "stderr",
     "output_type": "stream",
     "text": [
      "c:\\Users\\PC\\Desktop\\current_focus\\mlflow\\mlflow_app\\venv\\Lib\\site-packages\\mlflow\\types\\utils.py:452: UserWarning: Hint: Inferred schema contains integer column(s). Integer columns in Python cannot represent missing values. If your input data contains missing values at inference time, it will be encoded as floats and will cause a schema enforcement error. The best way to avoid this problem is to infer the model schema based on a realistic data sample (training dataset) that includes missing values. Alternatively, you can declare integer columns as doubles (float64) whenever these columns may have missing values. See `Handling Integers With Missing Values <https://www.mlflow.org/docs/latest/models.html#handling-integers-with-missing-values>`_ for more details.\n",
      "  warnings.warn(\n"
     ]
    }
   ],
   "source": [
    "make_a_run(run_name='RF_CCP',\n",
    "           model_name='RF',\n",
    "           model_params={'n_estimators':200},\n",
    "           model_func=make_classifier_RF,\n",
    "           data=data,\n",
    "           infered_signature=infer_signature(data['X_train'],data['y_train'])\n",
    "           )"
   ]
  },
  {
   "cell_type": "code",
   "execution_count": 14,
   "id": "7080034f",
   "metadata": {},
   "outputs": [
    {
     "name": "stderr",
     "output_type": "stream",
     "text": [
      "c:\\Users\\PC\\Desktop\\current_focus\\mlflow\\mlflow_app\\venv\\Lib\\site-packages\\mlflow\\types\\utils.py:452: UserWarning: Hint: Inferred schema contains integer column(s). Integer columns in Python cannot represent missing values. If your input data contains missing values at inference time, it will be encoded as floats and will cause a schema enforcement error. The best way to avoid this problem is to infer the model schema based on a realistic data sample (training dataset) that includes missing values. Alternatively, you can declare integer columns as doubles (float64) whenever these columns may have missing values. See `Handling Integers With Missing Values <https://www.mlflow.org/docs/latest/models.html#handling-integers-with-missing-values>`_ for more details.\n",
      "  warnings.warn(\n"
     ]
    }
   ],
   "source": [
    "make_a_run(run_name='SVM_CCP',\n",
    "           model_name='SVM_',\n",
    "           model_params={'kernel':'rbf'},\n",
    "           model_func=make_classifier_SVM,\n",
    "           data=data,\n",
    "           infered_signature=infer_signature(data['X_train'],data['y_train'])\n",
    "           )"
   ]
  },
  {
   "cell_type": "code",
   "execution_count": 15,
   "id": "89fdfc7c",
   "metadata": {},
   "outputs": [
    {
     "name": "stderr",
     "output_type": "stream",
     "text": [
      "c:\\Users\\PC\\Desktop\\current_focus\\mlflow\\mlflow_app\\venv\\Lib\\site-packages\\mlflow\\types\\utils.py:452: UserWarning: Hint: Inferred schema contains integer column(s). Integer columns in Python cannot represent missing values. If your input data contains missing values at inference time, it will be encoded as floats and will cause a schema enforcement error. The best way to avoid this problem is to infer the model schema based on a realistic data sample (training dataset) that includes missing values. Alternatively, you can declare integer columns as doubles (float64) whenever these columns may have missing values. See `Handling Integers With Missing Values <https://www.mlflow.org/docs/latest/models.html#handling-integers-with-missing-values>`_ for more details.\n",
      "  warnings.warn(\n"
     ]
    }
   ],
   "source": [
    "make_a_run(run_name='XGB_CCP',\n",
    "           model_name='XGB',\n",
    "           model_params={},\n",
    "           model_func=make_classifier_xgboost,\n",
    "           data=data,\n",
    "           infered_signature=infer_signature(data['X_train'],data['y_train'])\n",
    "           )"
   ]
  }
 ],
 "metadata": {
  "kernelspec": {
   "display_name": "venv",
   "language": "python",
   "name": "python3"
  },
  "language_info": {
   "codemirror_mode": {
    "name": "ipython",
    "version": 3
   },
   "file_extension": ".py",
   "mimetype": "text/x-python",
   "name": "python",
   "nbconvert_exporter": "python",
   "pygments_lexer": "ipython3",
   "version": "3.13.5"
  }
 },
 "nbformat": 4,
 "nbformat_minor": 5
}
